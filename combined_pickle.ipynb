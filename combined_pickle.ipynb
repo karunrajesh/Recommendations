{
 "cells": [
  {
   "cell_type": "code",
   "execution_count": 1,
   "metadata": {},
   "outputs": [],
   "source": [
    "import pandas as pd\n",
    "import numpy as np\n",
    "import os\n",
    "import pickle"
   ]
  },
  {
   "cell_type": "code",
   "execution_count": 3,
   "metadata": {},
   "outputs": [],
   "source": [
    "folder_with_data = os.getcwd() + \"/mal_pickles\""
   ]
  },
  {
   "cell_type": "code",
   "execution_count": 7,
   "metadata": {},
   "outputs": [
    {
     "data": {
      "text/plain": [
       "['anime_mal_sites_10.pickle',\n",
       " 'anime_mal_sites_1.pickle',\n",
       " '.DS_Store',\n",
       " 'anime_mal_sites_3.pickle',\n",
       " 'anime_mal_sites_12.pickle',\n",
       " 'anime_mal_sites_24.pickle',\n",
       " 'anime_mal_sites_7.pickle',\n",
       " 'anime_mal_sites_20.pickle',\n",
       " 'anime_mal_sites_16.pickle',\n",
       " 'anime_mal_sites_22.pickle',\n",
       " 'anime_mal_sites_18.pickle',\n",
       " 'anime_mal_sites_14.pickle',\n",
       " 'anime_mal_sites_9.pickle',\n",
       " 'anime_mal_sites_5.pickle',\n",
       " 'anime_mal_sites_11.pickle',\n",
       " 'anime_mal_sites_25.pickle',\n",
       " 'anime_mal_sites_13.pickle',\n",
       " 'anime_mal_sites_2.pickle',\n",
       " 'anime_mal_sites_17.pickle',\n",
       " 'anime_mal_sites_21.pickle',\n",
       " 'anime_mal_sites_6.pickle',\n",
       " 'anime_mal_sites_8.pickle',\n",
       " 'anime_mal_sites_4.pickle',\n",
       " 'anime_mal_sites_19.pickle',\n",
       " 'anime_mal_sites_15.pickle',\n",
       " 'anime_mal_sites_23.pickle']"
      ]
     },
     "execution_count": 7,
     "metadata": {},
     "output_type": "execute_result"
    }
   ],
   "source": [
    "os.listdir(folder_with_data)"
   ]
  },
  {
   "cell_type": "code",
   "execution_count": 5,
   "metadata": {},
   "outputs": [
    {
     "name": "stdout",
     "output_type": "stream",
     "text": [
      "/Users/karunrajesh/Documents/Fun_Projects/Recommendations/mal_pickles/anime_mal_sites_10.pickle\n",
      "{\"Banished from the Hero's Party, I Decided to Live a Quiet Life in the Countryside\": ['https://myanimelist.net/anime/44037/Shin_no_Nakama_ja_Nai_to_Yuusha_no_Party_wo_Oidasareta_node_Henkyou_de_Slow_Life_suru_Koto_ni_Shimashita', [['Funimation'], ['2021']]], 'Astra Lost in Space': ['https://myanimelist.net/anime/39198/Kanata_no_Astra', [['Funimation', 'Hulu'], ['2019']]], 'The Junji Ito Collection': ['https://myanimelist.net/anime/36124/Itou_Junji__Collection', [['Crunchyroll', 'Funimation'], ['2018']]], 'True Tears': ['https://myanimelist.net/anime/2129/True_Tears', [['Crunchyroll'], ['2008']]], 'Blade & Soul': ['https://myanimelist.net/anime/22547/Blade___Soul', [['Crunchyroll'], ['2014']]], 'Hikaru no Go': ['https://myanimelist.net/anime/135/Hikaru_no_Go', [['Crunchyroll', 'Hulu'], ['2001']]], 'Scissor Seven': ['https://myanimelist.net/anime/38409/Cike_Wu_Liuqi', [['Netflix'], ['2018']]], 'Appleseed XIII': ['https://myanimelist.net/anime/9737/Appleseed_XIII', [['Funimation'], ['2011']]], 'Izumo: Flash of a Brave Sword': ['https://myanimelist.net/anime/2523/Izumo__Takeki_Tsurugi_no_Senki', [['Crunchyroll'], ['2005']]], 'Yamishibai: Japanese Ghost Stories': ['https://myanimelist.net/anime/19383/Yami_Shibai', [['Crunchyroll'], ['2013']]], 'Noein: to your other self': ['https://myanimelist.net/anime/584/Noein__Mou_Hitori_no_Kimi_e', [['Funimation'], ['2005']]], 'PriPri Chi-chan!!': ['https://myanimelist.net/anime/34799/PriPri_Chii-chan', [['Crunchyroll'], ['2017']]], 'Persona 4 the Animation': ['https://myanimelist.net/anime/10588/Persona_4_the_Animation', [['Hulu'], ['2011']]], 'Blood-C': ['https://myanimelist.net/anime/10490/Blood-C', [['Funimation', 'Hulu'], ['2011']]], 'Love Rice': ['https://myanimelist.net/anime/34402/Love_Kome__We_Love_Rice', [['Crunchyroll'], ['2017']]], 'World Break: Aria of Curse for a Holy Swordsman': ['https://myanimelist.net/anime/22663/Seiken_Tsukai_no_World_Break', [['Crunchyroll', 'Funimation'], ['2015']]], 'The Disappearance of Nagato Yuki-chan': ['https://myanimelist.net/anime/26351/Nagato_Yuki-chan_no_Shoushitsu', [['Funimation'], ['2015']]], 'Mysteria Friends': ['https://myanimelist.net/anime/31537/Manaria_Friends', [['Crunchyroll'], ['2019']]], 'Expelled from Paradise': ['https://myanimelist.net/anime/13391/Rakuen_Tsuihou', [['Netflix'], ['2014']]], 'Anime-Gataris': ['https://myanimelist.net/anime/35427/Animegataris', [['Crunchyroll', 'Funimation'], ['2017']]], 'Love, Chunibyo & Other Delusions!': ['https://myanimelist.net/anime/14741/Chuunibyou_demo_Koi_ga_Shitai', [['Crunchyroll'], ['2012']]], 'B: The Beginning': ['https://myanimelist.net/anime/32827/B__The_Beginning', [['Netflix'], ['2018']]], 'When Marnie Was There': ['https://myanimelist.net/anime/21557/Omoide_no_Marnie', [['HBO'], ['2014']]], 'Pokémon: Mewtwo Strikes Back—Evolution': ['https://myanimelist.net/anime/37966/Pokemon_Movie_22__Mewtwo_no_Gyakushuu_Evolution', [['Netflix'], ['2019']]], 'In/Spectre': ['https://myanimelist.net/anime/39017/Kyokou_Suiri', [['Crunchyroll', 'HBO'], ['2020']]], 'Ahiru no Sora': ['https://myanimelist.net/anime/37403/Ahiru_no_Sora', [['Crunchyroll'], ['2019']]], 'Space Dandy': ['https://myanimelist.net/anime/20057/Space%E2%98%86Dandy', [['Funimation', 'Hulu'], ['2014']]], 'My Sister, My Writer': ['https://myanimelist.net/anime/36632/Ore_ga_Suki_nano_wa_Imouto_dakedo_Imouto_ja_Nai', [['Crunchyroll'], ['2018']]], 'Rage of Bahamut: Genesis': ['https://myanimelist.net/anime/21843/Shingeki_no_Bahamut__Genesis', [['Funimation'], ['2014']]], 'Matoi the Sacred Slayer': ['https://myanimelist.net/anime/33668/Soushin_Shoujo_Matoi', [['Crunchyroll'], ['2016']]], 'Yuki Yuna is a Hero': ['https://myanimelist.net/anime/25519/Yuuki_Yuuna_wa_Yuusha_de_Aru', [['Crunchyroll'], ['2014']]], 'Osomatsu-kun': ['https://myanimelist.net/anime/9884/Osomatsu-kun', [['Crunchyroll'], ['1988']]], 'The Fruit of Grisaia': ['https://myanimelist.net/anime/17729/Grisaia_no_Kajitsu', [['Crunchyroll', 'Hulu'], ['2014']]], 'Kabaneri of the Iron Fortress': ['https://myanimelist.net/anime/28623/Koutetsujou_no_Kabaneri', [['Crunchyroll', 'Netflix', 'Amazon Prime', 'HBO'], ['2016']]], 'Cells at Work! CODE BLACK!': ['https://myanimelist.net/anime/41694/Hataraku_Saibou_Black_TV', [['Funimation'], ['2021']]], 'Steins;Gate 0': ['https://myanimelist.net/anime/30484/Steins_Gate_0', [['Crunchyroll', 'Funimation'], ['2018']]], \"Akiba's Trip The Animation\": ['https://myanimelist.net/anime/34051/Akibas_Trip_The_Animation', [['Funimation'], ['2017']]], 'Hetalia Axis Powers': ['https://myanimelist.net/anime/5060/Hetalia_Axis_Powers', [['Crunchyroll'], ['2009']]], 'Hakata Tonkotsu Ramens': ['https://myanimelist.net/anime/35889/Hakata_Tonkotsu_Ramens', [['Crunchyroll', 'Funimation'], ['2018']]], \"Woodpecker Detective's Office\": ['https://myanimelist.net/anime/39582/Kitsutsuki_Tanteidokoro', [['Crunchyroll'], ['2020']]], 'Initial D Legend 1 Awakening': ['https://myanimelist.net/anime/19613/New_Initial_D_Movie__Legend_1_-_Kakusei', [['Amazon Prime'], ['2014']]], 'Kishibe Rohan wa Ugokanai': ['https://myanimelist.net/anime/33191/Kishibe_Rohan_wa_Ugokanai', [['Amazon Prime'], ['2021']]], '100% Teacher Pascal': ['https://myanimelist.net/anime/34052/100_Pascal-sensei_TV', [['Crunchyroll'], ['2017']]], 'Undefeated Bahamut Chronicle': ['https://myanimelist.net/anime/30749/Saijaku_Muhai_no_Bahamut', [['Hulu'], ['2016']]], 'Yona of the Dawn': ['https://myanimelist.net/anime/25013/Akatsuki_no_Yona', [['Crunchyroll', 'Funimation', 'Hulu'], ['2014']]], 'The Sacred Blacksmith': ['https://myanimelist.net/anime/5940/Seiken_no_Blacksmith', [['Funimation'], ['2009']]], 'The Mystic Archives of Dantalian': ['https://myanimelist.net/anime/8915/Dantalian_no_Shoka', [['Funimation'], ['2011']]], 'Code:Breaker': ['https://myanimelist.net/anime/11703/Code_Breaker', [['Funimation'], ['2012']]]}\n"
     ]
    }
   ],
   "source": [
    "full_mal_sites = dict()\n",
    "for file in os.listdir(folder_with_data):\n",
    "    pickle_path = folder_with_data + \"/\" + file\n",
    "    print(pickle_path)\n",
    "    mal_site = pd.read_pickle(pickle_path)\n",
    "    print(mal_site)\n",
    "    break"
   ]
  },
  {
   "cell_type": "code",
   "execution_count": 8,
   "metadata": {},
   "outputs": [
    {
     "name": "stdout",
     "output_type": "stream",
     "text": [
      "50\n"
     ]
    }
   ],
   "source": [
    "f1 = \"/Users/karunrajesh/Documents/Fun_Projects/Recommendations/mal_pickles/anime_mal_sites_1.pickle\"\n",
    "mal_site = pd.read_pickle(f1)\n",
    "print(len(mal_site.keys()))"
   ]
  },
  {
   "cell_type": "code",
   "execution_count": 9,
   "metadata": {},
   "outputs": [
    {
     "data": {
      "text/plain": [
       "{'a': 1, 'b': 2, 'c': 3, 'd': 4}"
      ]
     },
     "execution_count": 9,
     "metadata": {},
     "output_type": "execute_result"
    }
   ],
   "source": [
    "# Test merging dicts function\n",
    "# Using this (**) we first pass all the elements of the first dictionary into the third one and then \n",
    "# pass the second dictionary into the third. This will replace the duplicate keys of the first dictionary. \n",
    "dict1 = {\"a\": 1, \"b\": 2, \"c\": 3}\n",
    "dict2 = {\"b\": 2, \"d\":4}\n",
    "res = {**dict1, **dict2}\n",
    "res"
   ]
  },
  {
   "cell_type": "code",
   "execution_count": 11,
   "metadata": {},
   "outputs": [],
   "source": [
    "def put_pickles_together(folder_with_data):\n",
    "    full_anime_dict = dict()\n",
    "    for file in os.listdir(folder_with_data):\n",
    "        if file.startswith(\"anime\"):\n",
    "            pickle_path = folder_with_data + \"/\" + file\n",
    "            mal_site = pd.read_pickle(pickle_path)\n",
    "            full_anime_dict = {**full_anime_dict, **mal_site}\n",
    "    return full_anime_dict"
   ]
  },
  {
   "cell_type": "code",
   "execution_count": 12,
   "metadata": {},
   "outputs": [],
   "source": [
    "full_anime_dict = put_pickles_together(folder_with_data)"
   ]
  },
  {
   "cell_type": "code",
   "execution_count": 17,
   "metadata": {},
   "outputs": [],
   "source": [
    "def pickle_list(df, file_name):\n",
    "    with open(file_name, 'wb') as handle:\n",
    "        pickle.dump(df, handle, protocol=pickle.HIGHEST_PROTOCOL)\n",
    "\n",
    "pickle_list(full_anime_dict, folder_with_data+\"/full_mal_list.pickle\")"
   ]
  }
 ],
 "metadata": {
  "kernelspec": {
   "display_name": "Python 3",
   "language": "python",
   "name": "python3"
  },
  "language_info": {
   "codemirror_mode": {
    "name": "ipython",
    "version": 3
   },
   "file_extension": ".py",
   "mimetype": "text/x-python",
   "name": "python",
   "nbconvert_exporter": "python",
   "pygments_lexer": "ipython3",
   "version": "3.7.4"
  }
 },
 "nbformat": 4,
 "nbformat_minor": 2
}
